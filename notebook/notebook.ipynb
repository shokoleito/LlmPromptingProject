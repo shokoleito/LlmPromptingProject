{
 "cells": [
  {
   "metadata": {},
   "cell_type": "markdown",
   "source": "# Create an auto testing script for Qwen2.5-14B-Instruct",
   "id": "8a77807f92f26ee"
  },
  {
   "metadata": {
    "ExecuteTime": {
     "end_time": "2025-07-18T07:06:34.979326Z",
     "start_time": "2025-07-18T07:06:32.580935Z"
    }
   },
   "cell_type": "code",
   "source": [
    "import requests\n",
    "import copy\n",
    "import json\n",
    "import time\n",
    "import csv\n",
    "import pandas as pd"
   ],
   "id": "fbc121e30a2defb3",
   "outputs": [],
   "execution_count": 13
  },
  {
   "metadata": {
    "ExecuteTime": {
     "end_time": "2025-07-18T08:20:08.488551Z",
     "start_time": "2025-07-18T08:20:08.484290Z"
    }
   },
   "cell_type": "code",
   "source": [
    "url = 'https://aihub.vietteltelecom.vn:8443/api/llm/test-prompt'\n",
    "headers = {\n",
    "    'Content-Type': 'application/json',\n",
    "    'x-api-key': 'CjuiGkZSLSyxWspiQaRfiA',\n",
    "}"
   ],
   "id": "705b809bf7d72af1",
   "outputs": [],
   "execution_count": 44
  },
  {
   "metadata": {
    "ExecuteTime": {
     "end_time": "2025-07-18T08:20:58.503478Z",
     "start_time": "2025-07-18T08:20:58.496079Z"
    }
   },
   "cell_type": "code",
   "source": [
    "template = {'max_tokens': 100,\n",
    "            'temperature': 0.0,\n",
    "            'stream': False,\n",
    "            'model': 'Qwen2.5-14B-Instruct',\n",
    "            'messages': [{'role': 'system', 'content': ''},\n",
    "                         {'role': 'user', 'content': ''}]}"
   ],
   "id": "f3a0966278158192",
   "outputs": [],
   "execution_count": 47
  },
  {
   "metadata": {
    "ExecuteTime": {
     "end_time": "2025-07-18T08:21:48.831950Z",
     "start_time": "2025-07-18T08:21:48.826658Z"
    }
   },
   "cell_type": "code",
   "source": [
    "# ROUTING_PROMPT = open('ROUTING_PROMPT_AIBOX.txt', 'r', encoding='utf-8').read()\n",
    "# COMMON_EXTRACT_PROMPT = open('COMMON_EXTRACT_PROMPT.txt', 'r', encoding='utf-8').read()\n",
    "# CHANNEL_EXTRACT_PROMPT = open('CHANNEL_EXTRACT_PROMPT.txt', 'r', encoding='utf-8').read()\n",
    "path = '/Users/percyd/Docs/ViettelDAC_AI/LlmPromptingProject/'\n",
    "ROUTING_PROMPT = open(path+'./prompts/ROUTING_PROMPT_AIBOX.txt', encoding='utf-8').read()"
   ],
   "id": "a8be6459a68e25db",
   "outputs": [],
   "execution_count": 50
  },
  {
   "metadata": {
    "ExecuteTime": {
     "end_time": "2025-07-18T07:06:37.857694Z",
     "start_time": "2025-07-18T07:06:37.845698Z"
    }
   },
   "cell_type": "code",
   "source": "test_df = pd.read_csv(path+'./tests/input_test_intent.csv', encoding='utf-8')",
   "id": "80487da52fc0aebf",
   "outputs": [],
   "execution_count": 14
  },
  {
   "metadata": {
    "ExecuteTime": {
     "end_time": "2025-07-18T08:20:30.749243Z",
     "start_time": "2025-07-18T08:20:30.746341Z"
    }
   },
   "cell_type": "code",
   "source": [
    "def send_request(url_route, header, data, prompt_type, usr_in):\n",
    "    temp_data = copy.deepcopy(data)\n",
    "    temp_data['messages'][0]['content'] = prompt_type\n",
    "    temp_data['messages'][1]['content'] = usr_in\n",
    "    print(temp_data)\n",
    "    try:\n",
    "        start = time.time()\n",
    "        response = requests.post(url=url_route, headers=header, json=temp_data)\n",
    "        duration = time.time() - start\n",
    "        print(response)\n",
    "        response.raise_for_status()\n",
    "        status_code = response.status_code\n",
    "        print(f'Status Code: {status_code}')\n",
    "        if status_code == 200:\n",
    "            res = response.json()\n",
    "            print(f'Response JSON: {res}')\n",
    "            print(f'Time respond: {duration*1000:.0f}ms')\n",
    "            return json.loads(res).get('intent'), duration\n",
    "        else:\n",
    "            print(f'Response Text: {response.text}')\n",
    "            return None, 0\n",
    "    except requests.exceptions.RequestException as e:\n",
    "        print(f'An error occurred: {e}')\n",
    "        return None, 0"
   ],
   "id": "b3a8d54e237b466b",
   "outputs": [],
   "execution_count": 45
  },
  {
   "metadata": {
    "ExecuteTime": {
     "end_time": "2025-07-18T07:26:54.662297Z",
     "start_time": "2025-07-18T07:26:54.637334Z"
    }
   },
   "cell_type": "code",
   "source": [
    "converter = {\n",
    "    \"cmd_raise_volume\": \"volume_control\",\n",
    "    \"cmd_reduce_volume\": \"volume_control\",\n",
    "    \"cmd_max_volume\": \"volume_control\",\n",
    "    \"cmd_min_volume\": \"volume_control\",\n",
    "    \"cmd_volume_on\": \"volume_control\",\n",
    "    \"cmd_volume_off\": \"volume_control\",\n",
    "    \"cmd_pause\": \"playback_control\",\n",
    "    \"cmd_continues\": \"playback_control\",\n",
    "    \"cmd_fast_forward\": \"playback_control\",\n",
    "    \"cmd_rewind\": \"playback_control\",\n",
    "    \"cmd_turn_on\": \"device_control\",\n",
    "    \"cmd_turn_off\": \"device_control\",\n",
    "    \"navigate_screen\": \"navigate_screen\",\n",
    "    \"navigate_app\": \"navigate_app\",\n",
    "    \"open_item\": \"content_open\",\n",
    "    \"opem_program\": \"content_open\",\n",
    "    \"open_schedule\": \"open_schedule\",\n",
    "    \"cmd_search\": \"cmd_search\",\n",
    "    \"film_qna\": \"search_item\",\n",
    "    \"general_query\": \"search_item\",\n",
    "    \"gold_price_query\": \"search_item\",\n",
    "    \"weather_query\": \"search_item\",\n",
    "    \"package_query\": \"search_item\"\n",
    "}"
   ],
   "id": "56a9e295fbc1780",
   "outputs": [],
   "execution_count": 17
  },
  {
   "metadata": {
    "ExecuteTime": {
     "end_time": "2025-07-18T07:50:29.848201Z",
     "start_time": "2025-07-18T07:50:29.833584Z"
    }
   },
   "cell_type": "code",
   "source": "test_df['coarse_intent'] = test_df['expected_intent'].map(converter).fillna('unknown')",
   "id": "50b56c436e0dec9d",
   "outputs": [],
   "execution_count": 32
  },
  {
   "metadata": {
    "ExecuteTime": {
     "end_time": "2025-07-18T08:21:57.548744Z",
     "start_time": "2025-07-18T08:21:56.223202Z"
    }
   },
   "cell_type": "code",
   "source": "send_request(url,headers,template,ROUTING_PROMPT,'mở vtv1')",
   "id": "6dc2ab3dedadcbaf",
   "outputs": [
    {
     "name": "stdout",
     "output_type": "stream",
     "text": [
      "{'max_tokens': 100, 'temperature': 0.0, 'stream': False, 'model': 'Qwen2.5-14B-Instruct', 'messages': [{'role': 'system', 'content': 'Bạn là trợ lý phân loại yêu cầu người dùng trong ứng dụng xem nội dung trực tuyến. Nhiệm vụ của bạn là chọn hành động tiếp theo dựa trên input của người dùng, chỉ trả về duy nhất MỘT hành động phù hợp nhất. KHÔNG trả ra cái gì khác (kể cả Lưu ý) ngoài output format.\\n\\n---\\n\\nTrả về đúng JSON định dạng:\\n{\"intent\": \"Tên hành động phù hợp\"}\\nKHÔNG được trả thêm nội dung nào khác.\\n\\n---\\n\\n*intent* là một trong các hành động sau:\\n- open_program: Mở **chương trình truyền hình cụ thể** (ví dụ: \"Thời sự\", \"Rap Việt\",...), khi người dùng **muốn mở chương trình**. KHÔNG dùng nếu câu chứa tên **một phim, kênh hoặc video cụ thể** → chuyển sang `open_item`.KHÔNG được nhầm lẫn với KÊNH TRUYỀN HÌNH. KHÔNG nhầm lẫn sang `open_schedule` khi có ngày giờ cụ thể.\\n- navigate_screen: Điều hướng tới màn hình khác. Trợ lý này có thể điều hướng tới các trang / màn hình: Trang/ màn hình home; Trang chủ; Quay lại / quay về / mở lại trang trước; mở / bật trang tìm kiếm. KHÔNG dùng cho mở tên nội dung cụ thể.\\n- cmd_turn_on: Bật tivi / đầu thu.\\n- cmd_turn_off: Tắt tivi / đầu thu.\\n- cmd_raise_volume: Dùng cho tất cả các yêu cầu làm âm lượng to hơn, **nhưng không yêu cầu tới mức tối đa**. Bao gồm cả: \"bật âm lượng lớn\", \"âm thanh to hơn\", \"tăng loa\", \"cho to tiếng\", \"âm lượng hơi nhỏ\", \"không nghe rõ\", ...\\n- cmd_reduce_volume: Dùng khi người dùng muốn **giảm âm lượng một mức vừa phải, không phải về mức nhỏ nhất**. Bao gồm các yêu cầu như:  \"giảm âm lượng\", \"nhỏ hơn\", \"giảm đi\", \"bớt ồn\", \"giảm tiếng\", \"cho nhỏ chút\",  và các câu than phiền như: \"loa to quá\", \"âm thanh lớn\", \"chói tai\", \"nhức đầu vì tiếng\".  KHÔNG dùng nếu người dùng có từ khóa chỉ mức cực hạn như: \"nhỏ nhất\", \"min\", \"volume về 0\".\\n- cmd_max_volume: Chỉ dùng khi người dùng muốn tăng âm lượng lên **mức cao nhất có thể**. Chỉ chọn `cmd_max_volume` nếu có các cụm từ khóa rõ ràng như:\"tối đa\", \"max\", \"to nhất\", \"lớn nhất\", \"hết cỡ\", \"max volume\", \"mức cao nhất\", \"full volume\", \"hết mức\".KHÔNG chọn nếu chỉ nói \"bật âm lượng lớn\", \"mở loa to\", \"bật to\" → đó là `cmd_raise_volume`.\\n- cmd_min_volume: Dùng khi người dùng muốn **giảm âm lượng về mức nhỏ nhất có thể**. Chỉ chọn nếu có các từ khóa rõ ràng như: \"nhỏ nhất\", \"min\", \"thấp nhất\", \"về 0\", \"bé nhất\", \"âm lượng thấp nhất\", \"volume min\", \"mức tối thiểu\", \"min volume\".KHÔNG chọn nếu chỉ có các cụm như: \"giảm âm lượng\", \"nhỏ hơn\", \"cho nhỏ tiếng\" → đó là `cmd_reduce_volume`\\n- cmd_pause: Tạm dừng; dừng lại; dừng phát; ngừng phát; dừng; pause.\\n- cmd_continues: Tiếp tục; phát tiếp; bật lại; xem tiếp; play; continue.\\n- cmd_fast_forward: Nếu người dùng muốn tua nhanh, chỉ khi có các từ như \"tua nhanh\", \"tua đi\", \"tăng tốc\", \"phát nhanh\", \"chạy nhanh\", \"lướt qua\", \"bỏ qua\", \"tua đến đoạn\", \"skip\"...\\n- cmd_rewind: Nếu người dùng muốn tua lại, chỉ khi có các từ như \"tua chậm\", \"tua lại\", \"lùi lại\", \"chậm lại\", \"chạy lại\", \"tua về đoạn\"...\\n- open_schedule:  Dùng khi người dùng hỏi khi nào chiếu, giờ phát sóng, thời điểm chương trình diễn ra. KHÔNG dùng nếu người dùng có hành vi mở nội dung cụ thể (ví dụ: “xem thời sự lúc 19h”) → chọn open_program.\\n- open_item: Mở một nội dung phim/video/kênh cụ thể theo tên mà người dùng yêu cầu **xem/phát/mở**, có chứa các từ như \"video\", \"phim\", \"kênh truyền hình\", \"kênh\"...kể cả khi không có từ khóa như \"phim\", \"video\", \"kênhna\"... Nếu có vẻ là tên riêng rõ ràng (vd: \"sau lời từ khước\") thì vẫn chọn `open_item`. nếu không rõ nội dung thuộc thể loại nào thì điều hướng sang \"cmd_search\". KHÔNG nhầm với `cmd_search` nếu người dùng có hành vi yêu cầu hành động trực tiếp (\"xem\", \"mở\", \"bật\"). KHÔNG nhầm lẫn với `open_schedule` khi có ngày giờ cụ thể.\\n- general_query: Dành cho các câu hỏi hoặc yêu cầu mang tính tìm hiểu thông tin, hoặc trò chuyện không có mục đích hành động cụ thể. Bao gồm:**Tìm hiểu về hệ thống, chức năng, cách sử dụng, thông tin thực tế.**,**Câu chào hỏi, giao tiếp xã hội, cảm xúc, đùa giỡn, nhận xét, tâm sự.**,**Những câu nói thân thiện, không nhắm đến hành động hay thông tin nội dung.**\\n- cmd_search: Dùng khi người dùng **chưa chỉ định rõ nội dung cụ thể** mà chỉ muốn tìm kiếm, gợi ý thể loại, từ khóa, nhóm nội dung. KHÔNG dùng nếu người dùng đã nêu tên cụ thể và có hành vi mở/xem → chuyển sang `open_item`.\\n- navigate_app: Mở youtube.\\n- gold_price_query: Hỏi giá vàng. Ví dụ: \"Giá vàng hôm nay bao nhiêu?\".\\n- weather_query: Hỏi về thời tiết. Ví dụ: \"Thời tiết hôm nay thế nào?\", \"Mai có mưa không?\".\\n- package_query: Hỏi về gói cước, dịch vụ đang dùng, đăng ký, hủy, nâng cấp...\\n- film_qna: Câu hỏi liên quan đến nội dung phim/video/kênh như \"Phim A của đạo diễn nào?\", \"Phim B có bao nhiêu tập?\", \"Diễn viên chính phim C là ai?\", KHÔNG nhầm lẫn với những câu hỏi tìm kiếm/gợi ý như cmd_search hay các câu hỏi chung tìm hiểu thông tin như general_query.\\n\\n---\\n\\n**Lưu ý đặc biệt:**\\n- Nếu input là: \"mở [một tên nội dung cụ thể]\" → mặc định là `open_item`, kể cả không có từ \"phim\", \"video\", \"kênh\", miễn là tên có vẻ rõ ràng (ví dụ: \"mở sau lời từ khước\").\\n- Chỉ chọn `navigate_screen` khi người dùng nói đến hành vi chuyển màn hình, KHÔNG dùng cho mở nội dung.\\n- Không được nhầm film_qna với cmd_search hay general_query khi người dùng hỏi rõ ràng về một nội dung cụ thể của phim/video/kênh.\\n'}, {'role': 'user', 'content': 'mở vtv1'}]}\n",
      "<Response [200]>\n",
      "Status Code: 200\n",
      "Response JSON: {'intent': 'open_item'}\n",
      "Time respond: 1263ms\n"
     ]
    },
    {
     "ename": "TypeError",
     "evalue": "the JSON object must be str, bytes or bytearray, not dict",
     "output_type": "error",
     "traceback": [
      "\u001B[31m---------------------------------------------------------------------------\u001B[39m",
      "\u001B[31mTypeError\u001B[39m                                 Traceback (most recent call last)",
      "\u001B[36mCell\u001B[39m\u001B[36m \u001B[39m\u001B[32mIn[51]\u001B[39m\u001B[32m, line 1\u001B[39m\n\u001B[32m----> \u001B[39m\u001B[32m1\u001B[39m send_request(url,headers,template,ROUTING_PROMPT,\u001B[33m'\u001B[39m\u001B[33mmở vtv1\u001B[39m\u001B[33m'\u001B[39m)\n",
      "\u001B[36mCell\u001B[39m\u001B[36m \u001B[39m\u001B[32mIn[45]\u001B[39m\u001B[32m, line 18\u001B[39m, in \u001B[36msend_request\u001B[39m\u001B[34m(url_route, header, data, prompt_type, usr_in)\u001B[39m\n\u001B[32m     16\u001B[39m     \u001B[38;5;28mprint\u001B[39m(\u001B[33mf\u001B[39m\u001B[33m'\u001B[39m\u001B[33mResponse JSON: \u001B[39m\u001B[38;5;132;01m{\u001B[39;00mres\u001B[38;5;132;01m}\u001B[39;00m\u001B[33m'\u001B[39m)\n\u001B[32m     17\u001B[39m     \u001B[38;5;28mprint\u001B[39m(\u001B[33mf\u001B[39m\u001B[33m'\u001B[39m\u001B[33mTime respond: \u001B[39m\u001B[38;5;132;01m{\u001B[39;00mduration*\u001B[32m1000\u001B[39m\u001B[38;5;132;01m:\u001B[39;00m\u001B[33m.0f\u001B[39m\u001B[38;5;132;01m}\u001B[39;00m\u001B[33mms\u001B[39m\u001B[33m'\u001B[39m)\n\u001B[32m---> \u001B[39m\u001B[32m18\u001B[39m     \u001B[38;5;28;01mreturn\u001B[39;00m json.loads(res).get(\u001B[33m'\u001B[39m\u001B[33mintent\u001B[39m\u001B[33m'\u001B[39m), duration\n\u001B[32m     19\u001B[39m \u001B[38;5;28;01melse\u001B[39;00m:\n\u001B[32m     20\u001B[39m     \u001B[38;5;28mprint\u001B[39m(\u001B[33mf\u001B[39m\u001B[33m'\u001B[39m\u001B[33mResponse Text: \u001B[39m\u001B[38;5;132;01m{\u001B[39;00mresponse.text\u001B[38;5;132;01m}\u001B[39;00m\u001B[33m'\u001B[39m)\n",
      "\u001B[36mFile \u001B[39m\u001B[32m~/anaconda3/envs/sftenv/lib/python3.12/json/__init__.py:339\u001B[39m, in \u001B[36mloads\u001B[39m\u001B[34m(s, cls, object_hook, parse_float, parse_int, parse_constant, object_pairs_hook, **kw)\u001B[39m\n\u001B[32m    337\u001B[39m \u001B[38;5;28;01melse\u001B[39;00m:\n\u001B[32m    338\u001B[39m     \u001B[38;5;28;01mif\u001B[39;00m \u001B[38;5;129;01mnot\u001B[39;00m \u001B[38;5;28misinstance\u001B[39m(s, (\u001B[38;5;28mbytes\u001B[39m, \u001B[38;5;28mbytearray\u001B[39m)):\n\u001B[32m--> \u001B[39m\u001B[32m339\u001B[39m         \u001B[38;5;28;01mraise\u001B[39;00m \u001B[38;5;167;01mTypeError\u001B[39;00m(\u001B[33mf\u001B[39m\u001B[33m'\u001B[39m\u001B[33mthe JSON object must be str, bytes or bytearray, \u001B[39m\u001B[33m'\u001B[39m\n\u001B[32m    340\u001B[39m                         \u001B[33mf\u001B[39m\u001B[33m'\u001B[39m\u001B[33mnot \u001B[39m\u001B[38;5;132;01m{\u001B[39;00ms.\u001B[34m__class__\u001B[39m.\u001B[34m__name__\u001B[39m\u001B[38;5;132;01m}\u001B[39;00m\u001B[33m'\u001B[39m)\n\u001B[32m    341\u001B[39m     s = s.decode(detect_encoding(s), \u001B[33m'\u001B[39m\u001B[33msurrogatepass\u001B[39m\u001B[33m'\u001B[39m)\n\u001B[32m    343\u001B[39m \u001B[38;5;28;01mif\u001B[39;00m (\u001B[38;5;28mcls\u001B[39m \u001B[38;5;129;01mis\u001B[39;00m \u001B[38;5;28;01mNone\u001B[39;00m \u001B[38;5;129;01mand\u001B[39;00m object_hook \u001B[38;5;129;01mis\u001B[39;00m \u001B[38;5;28;01mNone\u001B[39;00m \u001B[38;5;129;01mand\u001B[39;00m\n\u001B[32m    344\u001B[39m         parse_int \u001B[38;5;129;01mis\u001B[39;00m \u001B[38;5;28;01mNone\u001B[39;00m \u001B[38;5;129;01mand\u001B[39;00m parse_float \u001B[38;5;129;01mis\u001B[39;00m \u001B[38;5;28;01mNone\u001B[39;00m \u001B[38;5;129;01mand\u001B[39;00m\n\u001B[32m    345\u001B[39m         parse_constant \u001B[38;5;129;01mis\u001B[39;00m \u001B[38;5;28;01mNone\u001B[39;00m \u001B[38;5;129;01mand\u001B[39;00m object_pairs_hook \u001B[38;5;129;01mis\u001B[39;00m \u001B[38;5;28;01mNone\u001B[39;00m \u001B[38;5;129;01mand\u001B[39;00m \u001B[38;5;129;01mnot\u001B[39;00m kw):\n",
      "\u001B[31mTypeError\u001B[39m: the JSON object must be str, bytes or bytearray, not dict"
     ]
    }
   ],
   "execution_count": 51
  },
  {
   "metadata": {
    "ExecuteTime": {
     "end_time": "2025-07-18T07:39:13.704625Z",
     "start_time": "2025-07-18T07:39:13.695344Z"
    }
   },
   "cell_type": "code",
   "source": "test_df.drop(columns=['Unnamed: 0'], inplace=True)",
   "id": "2502aae0ff4f6d1f",
   "outputs": [],
   "execution_count": 26
  },
  {
   "metadata": {
    "ExecuteTime": {
     "end_time": "2025-07-18T07:40:14.668125Z",
     "start_time": "2025-07-18T07:40:09.973990Z"
    }
   },
   "cell_type": "code",
   "source": [
    "test_df[['pred_coarse_intent', 'time']] = test_df['user_input'].apply(\n",
    "    lambda x: send_request(url,\n",
    "                           headers,\n",
    "                           template,\n",
    "                           ROUTING_PROMPT,\n",
    "                           x) if isinstance(x, str) else (None, 0)\n",
    ").apply(pd.Series)\n"
   ],
   "id": "e05f434a6a294cae",
   "outputs": [
    {
     "name": "stdout",
     "output_type": "stream",
     "text": [
      "Status Code: 200\n",
      "An error occurred: Expecting value: line 1 column 1 (char 0)\n",
      "Status Code: 200\n",
      "An error occurred: Expecting value: line 1 column 1 (char 0)\n",
      "Status Code: 200\n",
      "An error occurred: Expecting value: line 1 column 1 (char 0)\n",
      "Status Code: 200\n",
      "An error occurred: Expecting value: line 1 column 1 (char 0)\n",
      "Status Code: 200\n",
      "An error occurred: Expecting value: line 1 column 1 (char 0)\n",
      "Status Code: 200\n",
      "An error occurred: Expecting value: line 1 column 1 (char 0)\n",
      "Status Code: 200\n",
      "An error occurred: Expecting value: line 1 column 1 (char 0)\n",
      "Status Code: 200\n",
      "An error occurred: Expecting value: line 1 column 1 (char 0)\n",
      "Status Code: 200\n",
      "An error occurred: Expecting value: line 1 column 1 (char 0)\n",
      "Status Code: 200\n",
      "An error occurred: Expecting value: line 1 column 1 (char 0)\n"
     ]
    },
    {
     "ename": "KeyboardInterrupt",
     "evalue": "",
     "output_type": "error",
     "traceback": [
      "\u001B[31m---------------------------------------------------------------------------\u001B[39m",
      "\u001B[31mKeyboardInterrupt\u001B[39m                         Traceback (most recent call last)",
      "\u001B[36mCell\u001B[39m\u001B[36m \u001B[39m\u001B[32mIn[29]\u001B[39m\u001B[32m, line 1\u001B[39m\n\u001B[32m----> \u001B[39m\u001B[32m1\u001B[39m test_df[[\u001B[33m'\u001B[39m\u001B[33mpred_coarse_intent\u001B[39m\u001B[33m'\u001B[39m, \u001B[33m'\u001B[39m\u001B[33mtime\u001B[39m\u001B[33m'\u001B[39m]] = test_df[\u001B[33m'\u001B[39m\u001B[33muser_input\u001B[39m\u001B[33m'\u001B[39m].apply(\n\u001B[32m      2\u001B[39m     \u001B[38;5;28;01mlambda\u001B[39;00m x: send_request(url,\n\u001B[32m      3\u001B[39m                            headers,\n\u001B[32m      4\u001B[39m                            template,\n\u001B[32m      5\u001B[39m                            ROUTING_PROMPT,\n\u001B[32m      6\u001B[39m                            x) \u001B[38;5;28;01mif\u001B[39;00m \u001B[38;5;28misinstance\u001B[39m(x, \u001B[38;5;28mstr\u001B[39m) \u001B[38;5;28;01melse\u001B[39;00m (\u001B[38;5;28;01mNone\u001B[39;00m, \u001B[32m0\u001B[39m)\n\u001B[32m      7\u001B[39m ).apply(pd.Series)\n",
      "\u001B[36mFile \u001B[39m\u001B[32m~/anaconda3/envs/sftenv/lib/python3.12/site-packages/pandas/core/series.py:4935\u001B[39m, in \u001B[36mSeries.apply\u001B[39m\u001B[34m(self, func, convert_dtype, args, by_row, **kwargs)\u001B[39m\n\u001B[32m   4800\u001B[39m \u001B[38;5;28;01mdef\u001B[39;00m\u001B[38;5;250m \u001B[39m\u001B[34mapply\u001B[39m(\n\u001B[32m   4801\u001B[39m     \u001B[38;5;28mself\u001B[39m,\n\u001B[32m   4802\u001B[39m     func: AggFuncType,\n\u001B[32m   (...)\u001B[39m\u001B[32m   4807\u001B[39m     **kwargs,\n\u001B[32m   4808\u001B[39m ) -> DataFrame | Series:\n\u001B[32m   4809\u001B[39m \u001B[38;5;250m    \u001B[39m\u001B[33;03m\"\"\"\u001B[39;00m\n\u001B[32m   4810\u001B[39m \u001B[33;03m    Invoke function on values of Series.\u001B[39;00m\n\u001B[32m   4811\u001B[39m \n\u001B[32m   (...)\u001B[39m\u001B[32m   4926\u001B[39m \u001B[33;03m    dtype: float64\u001B[39;00m\n\u001B[32m   4927\u001B[39m \u001B[33;03m    \"\"\"\u001B[39;00m\n\u001B[32m   4928\u001B[39m     \u001B[38;5;28;01mreturn\u001B[39;00m SeriesApply(\n\u001B[32m   4929\u001B[39m         \u001B[38;5;28mself\u001B[39m,\n\u001B[32m   4930\u001B[39m         func,\n\u001B[32m   4931\u001B[39m         convert_dtype=convert_dtype,\n\u001B[32m   4932\u001B[39m         by_row=by_row,\n\u001B[32m   4933\u001B[39m         args=args,\n\u001B[32m   4934\u001B[39m         kwargs=kwargs,\n\u001B[32m-> \u001B[39m\u001B[32m4935\u001B[39m     ).apply()\n",
      "\u001B[36mFile \u001B[39m\u001B[32m~/anaconda3/envs/sftenv/lib/python3.12/site-packages/pandas/core/apply.py:1422\u001B[39m, in \u001B[36mSeriesApply.apply\u001B[39m\u001B[34m(self)\u001B[39m\n\u001B[32m   1419\u001B[39m     \u001B[38;5;28;01mreturn\u001B[39;00m \u001B[38;5;28mself\u001B[39m.apply_compat()\n\u001B[32m   1421\u001B[39m \u001B[38;5;66;03m# self.func is Callable\u001B[39;00m\n\u001B[32m-> \u001B[39m\u001B[32m1422\u001B[39m \u001B[38;5;28;01mreturn\u001B[39;00m \u001B[38;5;28mself\u001B[39m.apply_standard()\n",
      "\u001B[36mFile \u001B[39m\u001B[32m~/anaconda3/envs/sftenv/lib/python3.12/site-packages/pandas/core/apply.py:1502\u001B[39m, in \u001B[36mSeriesApply.apply_standard\u001B[39m\u001B[34m(self)\u001B[39m\n\u001B[32m   1496\u001B[39m \u001B[38;5;66;03m# row-wise access\u001B[39;00m\n\u001B[32m   1497\u001B[39m \u001B[38;5;66;03m# apply doesn't have a `na_action` keyword and for backward compat reasons\u001B[39;00m\n\u001B[32m   1498\u001B[39m \u001B[38;5;66;03m# we need to give `na_action=\"ignore\"` for categorical data.\u001B[39;00m\n\u001B[32m   1499\u001B[39m \u001B[38;5;66;03m# TODO: remove the `na_action=\"ignore\"` when that default has been changed in\u001B[39;00m\n\u001B[32m   1500\u001B[39m \u001B[38;5;66;03m#  Categorical (GH51645).\u001B[39;00m\n\u001B[32m   1501\u001B[39m action = \u001B[33m\"\u001B[39m\u001B[33mignore\u001B[39m\u001B[33m\"\u001B[39m \u001B[38;5;28;01mif\u001B[39;00m \u001B[38;5;28misinstance\u001B[39m(obj.dtype, CategoricalDtype) \u001B[38;5;28;01melse\u001B[39;00m \u001B[38;5;28;01mNone\u001B[39;00m\n\u001B[32m-> \u001B[39m\u001B[32m1502\u001B[39m mapped = obj._map_values(\n\u001B[32m   1503\u001B[39m     mapper=curried, na_action=action, convert=\u001B[38;5;28mself\u001B[39m.convert_dtype\n\u001B[32m   1504\u001B[39m )\n\u001B[32m   1506\u001B[39m \u001B[38;5;28;01mif\u001B[39;00m \u001B[38;5;28mlen\u001B[39m(mapped) \u001B[38;5;129;01mand\u001B[39;00m \u001B[38;5;28misinstance\u001B[39m(mapped[\u001B[32m0\u001B[39m], ABCSeries):\n\u001B[32m   1507\u001B[39m     \u001B[38;5;66;03m# GH#43986 Need to do list(mapped) in order to get treated as nested\u001B[39;00m\n\u001B[32m   1508\u001B[39m     \u001B[38;5;66;03m#  See also GH#25959 regarding EA support\u001B[39;00m\n\u001B[32m   1509\u001B[39m     \u001B[38;5;28;01mreturn\u001B[39;00m obj._constructor_expanddim(\u001B[38;5;28mlist\u001B[39m(mapped), index=obj.index)\n",
      "\u001B[36mFile \u001B[39m\u001B[32m~/anaconda3/envs/sftenv/lib/python3.12/site-packages/pandas/core/base.py:925\u001B[39m, in \u001B[36mIndexOpsMixin._map_values\u001B[39m\u001B[34m(self, mapper, na_action, convert)\u001B[39m\n\u001B[32m    922\u001B[39m \u001B[38;5;28;01mif\u001B[39;00m \u001B[38;5;28misinstance\u001B[39m(arr, ExtensionArray):\n\u001B[32m    923\u001B[39m     \u001B[38;5;28;01mreturn\u001B[39;00m arr.map(mapper, na_action=na_action)\n\u001B[32m--> \u001B[39m\u001B[32m925\u001B[39m \u001B[38;5;28;01mreturn\u001B[39;00m algorithms.map_array(arr, mapper, na_action=na_action, convert=convert)\n",
      "\u001B[36mFile \u001B[39m\u001B[32m~/anaconda3/envs/sftenv/lib/python3.12/site-packages/pandas/core/algorithms.py:1743\u001B[39m, in \u001B[36mmap_array\u001B[39m\u001B[34m(arr, mapper, na_action, convert)\u001B[39m\n\u001B[32m   1741\u001B[39m values = arr.astype(\u001B[38;5;28mobject\u001B[39m, copy=\u001B[38;5;28;01mFalse\u001B[39;00m)\n\u001B[32m   1742\u001B[39m \u001B[38;5;28;01mif\u001B[39;00m na_action \u001B[38;5;129;01mis\u001B[39;00m \u001B[38;5;28;01mNone\u001B[39;00m:\n\u001B[32m-> \u001B[39m\u001B[32m1743\u001B[39m     \u001B[38;5;28;01mreturn\u001B[39;00m lib.map_infer(values, mapper, convert=convert)\n\u001B[32m   1744\u001B[39m \u001B[38;5;28;01melse\u001B[39;00m:\n\u001B[32m   1745\u001B[39m     \u001B[38;5;28;01mreturn\u001B[39;00m lib.map_infer_mask(\n\u001B[32m   1746\u001B[39m         values, mapper, mask=isna(values).view(np.uint8), convert=convert\n\u001B[32m   1747\u001B[39m     )\n",
      "\u001B[36mFile \u001B[39m\u001B[32mpandas/_libs/lib.pyx:2999\u001B[39m, in \u001B[36mpandas._libs.lib.map_infer\u001B[39m\u001B[34m()\u001B[39m\n",
      "\u001B[36mCell\u001B[39m\u001B[36m \u001B[39m\u001B[32mIn[29]\u001B[39m\u001B[32m, line 2\u001B[39m, in \u001B[36m<lambda>\u001B[39m\u001B[34m(x)\u001B[39m\n\u001B[32m      1\u001B[39m test_df[[\u001B[33m'\u001B[39m\u001B[33mpred_coarse_intent\u001B[39m\u001B[33m'\u001B[39m, \u001B[33m'\u001B[39m\u001B[33mtime\u001B[39m\u001B[33m'\u001B[39m]] = test_df[\u001B[33m'\u001B[39m\u001B[33muser_input\u001B[39m\u001B[33m'\u001B[39m].apply(\n\u001B[32m----> \u001B[39m\u001B[32m2\u001B[39m     \u001B[38;5;28;01mlambda\u001B[39;00m x: send_request(url,\n\u001B[32m      3\u001B[39m                            headers,\n\u001B[32m      4\u001B[39m                            template,\n\u001B[32m      5\u001B[39m                            ROUTING_PROMPT,\n\u001B[32m      6\u001B[39m                            x) \u001B[38;5;28;01mif\u001B[39;00m \u001B[38;5;28misinstance\u001B[39m(x, \u001B[38;5;28mstr\u001B[39m) \u001B[38;5;28;01melse\u001B[39;00m (\u001B[38;5;28;01mNone\u001B[39;00m, \u001B[32m0\u001B[39m)\n\u001B[32m      7\u001B[39m ).apply(pd.Series)\n",
      "\u001B[36mCell\u001B[39m\u001B[36m \u001B[39m\u001B[32mIn[28]\u001B[39m\u001B[32m, line 8\u001B[39m, in \u001B[36msend_request\u001B[39m\u001B[34m(url_route, header, data, prompt_type, usr_in)\u001B[39m\n\u001B[32m      6\u001B[39m \u001B[38;5;28;01mtry\u001B[39;00m:\n\u001B[32m      7\u001B[39m     start = time.time()\n\u001B[32m----> \u001B[39m\u001B[32m8\u001B[39m     response = requests.post(url=url_route, headers=header, json=temp_data)\n\u001B[32m      9\u001B[39m     duration = time.time() - start\n\u001B[32m     10\u001B[39m     response.raise_for_status()\n",
      "\u001B[36mFile \u001B[39m\u001B[32m~/anaconda3/envs/sftenv/lib/python3.12/site-packages/requests/api.py:115\u001B[39m, in \u001B[36mpost\u001B[39m\u001B[34m(url, data, json, **kwargs)\u001B[39m\n\u001B[32m    103\u001B[39m \u001B[38;5;28;01mdef\u001B[39;00m\u001B[38;5;250m \u001B[39m\u001B[34mpost\u001B[39m(url, data=\u001B[38;5;28;01mNone\u001B[39;00m, json=\u001B[38;5;28;01mNone\u001B[39;00m, **kwargs):\n\u001B[32m    104\u001B[39m \u001B[38;5;250m    \u001B[39m\u001B[33mr\u001B[39m\u001B[33;03m\"\"\"Sends a POST request.\u001B[39;00m\n\u001B[32m    105\u001B[39m \n\u001B[32m    106\u001B[39m \u001B[33;03m    :param url: URL for the new :class:`Request` object.\u001B[39;00m\n\u001B[32m   (...)\u001B[39m\u001B[32m    112\u001B[39m \u001B[33;03m    :rtype: requests.Response\u001B[39;00m\n\u001B[32m    113\u001B[39m \u001B[33;03m    \"\"\"\u001B[39;00m\n\u001B[32m--> \u001B[39m\u001B[32m115\u001B[39m     \u001B[38;5;28;01mreturn\u001B[39;00m request(\u001B[33m\"\u001B[39m\u001B[33mpost\u001B[39m\u001B[33m\"\u001B[39m, url, data=data, json=json, **kwargs)\n",
      "\u001B[36mFile \u001B[39m\u001B[32m~/anaconda3/envs/sftenv/lib/python3.12/site-packages/requests/api.py:59\u001B[39m, in \u001B[36mrequest\u001B[39m\u001B[34m(method, url, **kwargs)\u001B[39m\n\u001B[32m     55\u001B[39m \u001B[38;5;66;03m# By using the 'with' statement we are sure the session is closed, thus we\u001B[39;00m\n\u001B[32m     56\u001B[39m \u001B[38;5;66;03m# avoid leaving sockets open which can trigger a ResourceWarning in some\u001B[39;00m\n\u001B[32m     57\u001B[39m \u001B[38;5;66;03m# cases, and look like a memory leak in others.\u001B[39;00m\n\u001B[32m     58\u001B[39m \u001B[38;5;28;01mwith\u001B[39;00m sessions.Session() \u001B[38;5;28;01mas\u001B[39;00m session:\n\u001B[32m---> \u001B[39m\u001B[32m59\u001B[39m     \u001B[38;5;28;01mreturn\u001B[39;00m session.request(method=method, url=url, **kwargs)\n",
      "\u001B[36mFile \u001B[39m\u001B[32m~/anaconda3/envs/sftenv/lib/python3.12/site-packages/requests/sessions.py:589\u001B[39m, in \u001B[36mSession.request\u001B[39m\u001B[34m(self, method, url, params, data, headers, cookies, files, auth, timeout, allow_redirects, proxies, hooks, stream, verify, cert, json)\u001B[39m\n\u001B[32m    584\u001B[39m send_kwargs = {\n\u001B[32m    585\u001B[39m     \u001B[33m\"\u001B[39m\u001B[33mtimeout\u001B[39m\u001B[33m\"\u001B[39m: timeout,\n\u001B[32m    586\u001B[39m     \u001B[33m\"\u001B[39m\u001B[33mallow_redirects\u001B[39m\u001B[33m\"\u001B[39m: allow_redirects,\n\u001B[32m    587\u001B[39m }\n\u001B[32m    588\u001B[39m send_kwargs.update(settings)\n\u001B[32m--> \u001B[39m\u001B[32m589\u001B[39m resp = \u001B[38;5;28mself\u001B[39m.send(prep, **send_kwargs)\n\u001B[32m    591\u001B[39m \u001B[38;5;28;01mreturn\u001B[39;00m resp\n",
      "\u001B[36mFile \u001B[39m\u001B[32m~/anaconda3/envs/sftenv/lib/python3.12/site-packages/requests/sessions.py:703\u001B[39m, in \u001B[36mSession.send\u001B[39m\u001B[34m(self, request, **kwargs)\u001B[39m\n\u001B[32m    700\u001B[39m start = preferred_clock()\n\u001B[32m    702\u001B[39m \u001B[38;5;66;03m# Send the request\u001B[39;00m\n\u001B[32m--> \u001B[39m\u001B[32m703\u001B[39m r = adapter.send(request, **kwargs)\n\u001B[32m    705\u001B[39m \u001B[38;5;66;03m# Total elapsed time of the request (approximately)\u001B[39;00m\n\u001B[32m    706\u001B[39m elapsed = preferred_clock() - start\n",
      "\u001B[36mFile \u001B[39m\u001B[32m~/anaconda3/envs/sftenv/lib/python3.12/site-packages/requests/adapters.py:667\u001B[39m, in \u001B[36mHTTPAdapter.send\u001B[39m\u001B[34m(self, request, stream, timeout, verify, cert, proxies)\u001B[39m\n\u001B[32m    664\u001B[39m     timeout = TimeoutSauce(connect=timeout, read=timeout)\n\u001B[32m    666\u001B[39m \u001B[38;5;28;01mtry\u001B[39;00m:\n\u001B[32m--> \u001B[39m\u001B[32m667\u001B[39m     resp = conn.urlopen(\n\u001B[32m    668\u001B[39m         method=request.method,\n\u001B[32m    669\u001B[39m         url=url,\n\u001B[32m    670\u001B[39m         body=request.body,\n\u001B[32m    671\u001B[39m         headers=request.headers,\n\u001B[32m    672\u001B[39m         redirect=\u001B[38;5;28;01mFalse\u001B[39;00m,\n\u001B[32m    673\u001B[39m         assert_same_host=\u001B[38;5;28;01mFalse\u001B[39;00m,\n\u001B[32m    674\u001B[39m         preload_content=\u001B[38;5;28;01mFalse\u001B[39;00m,\n\u001B[32m    675\u001B[39m         decode_content=\u001B[38;5;28;01mFalse\u001B[39;00m,\n\u001B[32m    676\u001B[39m         retries=\u001B[38;5;28mself\u001B[39m.max_retries,\n\u001B[32m    677\u001B[39m         timeout=timeout,\n\u001B[32m    678\u001B[39m         chunked=chunked,\n\u001B[32m    679\u001B[39m     )\n\u001B[32m    681\u001B[39m \u001B[38;5;28;01mexcept\u001B[39;00m (ProtocolError, \u001B[38;5;167;01mOSError\u001B[39;00m) \u001B[38;5;28;01mas\u001B[39;00m err:\n\u001B[32m    682\u001B[39m     \u001B[38;5;28;01mraise\u001B[39;00m \u001B[38;5;167;01mConnectionError\u001B[39;00m(err, request=request)\n",
      "\u001B[36mFile \u001B[39m\u001B[32m~/anaconda3/envs/sftenv/lib/python3.12/site-packages/urllib3/connectionpool.py:787\u001B[39m, in \u001B[36mHTTPConnectionPool.urlopen\u001B[39m\u001B[34m(self, method, url, body, headers, retries, redirect, assert_same_host, timeout, pool_timeout, release_conn, chunked, body_pos, preload_content, decode_content, **response_kw)\u001B[39m\n\u001B[32m    784\u001B[39m response_conn = conn \u001B[38;5;28;01mif\u001B[39;00m \u001B[38;5;129;01mnot\u001B[39;00m release_conn \u001B[38;5;28;01melse\u001B[39;00m \u001B[38;5;28;01mNone\u001B[39;00m\n\u001B[32m    786\u001B[39m \u001B[38;5;66;03m# Make the request on the HTTPConnection object\u001B[39;00m\n\u001B[32m--> \u001B[39m\u001B[32m787\u001B[39m response = \u001B[38;5;28mself\u001B[39m._make_request(\n\u001B[32m    788\u001B[39m     conn,\n\u001B[32m    789\u001B[39m     method,\n\u001B[32m    790\u001B[39m     url,\n\u001B[32m    791\u001B[39m     timeout=timeout_obj,\n\u001B[32m    792\u001B[39m     body=body,\n\u001B[32m    793\u001B[39m     headers=headers,\n\u001B[32m    794\u001B[39m     chunked=chunked,\n\u001B[32m    795\u001B[39m     retries=retries,\n\u001B[32m    796\u001B[39m     response_conn=response_conn,\n\u001B[32m    797\u001B[39m     preload_content=preload_content,\n\u001B[32m    798\u001B[39m     decode_content=decode_content,\n\u001B[32m    799\u001B[39m     **response_kw,\n\u001B[32m    800\u001B[39m )\n\u001B[32m    802\u001B[39m \u001B[38;5;66;03m# Everything went great!\u001B[39;00m\n\u001B[32m    803\u001B[39m clean_exit = \u001B[38;5;28;01mTrue\u001B[39;00m\n",
      "\u001B[36mFile \u001B[39m\u001B[32m~/anaconda3/envs/sftenv/lib/python3.12/site-packages/urllib3/connectionpool.py:534\u001B[39m, in \u001B[36mHTTPConnectionPool._make_request\u001B[39m\u001B[34m(self, conn, method, url, body, headers, retries, timeout, chunked, response_conn, preload_content, decode_content, enforce_content_length)\u001B[39m\n\u001B[32m    532\u001B[39m \u001B[38;5;66;03m# Receive the response from the server\u001B[39;00m\n\u001B[32m    533\u001B[39m \u001B[38;5;28;01mtry\u001B[39;00m:\n\u001B[32m--> \u001B[39m\u001B[32m534\u001B[39m     response = conn.getresponse()\n\u001B[32m    535\u001B[39m \u001B[38;5;28;01mexcept\u001B[39;00m (BaseSSLError, \u001B[38;5;167;01mOSError\u001B[39;00m) \u001B[38;5;28;01mas\u001B[39;00m e:\n\u001B[32m    536\u001B[39m     \u001B[38;5;28mself\u001B[39m._raise_timeout(err=e, url=url, timeout_value=read_timeout)\n",
      "\u001B[36mFile \u001B[39m\u001B[32m~/anaconda3/envs/sftenv/lib/python3.12/site-packages/urllib3/connection.py:565\u001B[39m, in \u001B[36mHTTPConnection.getresponse\u001B[39m\u001B[34m(self)\u001B[39m\n\u001B[32m    562\u001B[39m _shutdown = \u001B[38;5;28mgetattr\u001B[39m(\u001B[38;5;28mself\u001B[39m.sock, \u001B[33m\"\u001B[39m\u001B[33mshutdown\u001B[39m\u001B[33m\"\u001B[39m, \u001B[38;5;28;01mNone\u001B[39;00m)\n\u001B[32m    564\u001B[39m \u001B[38;5;66;03m# Get the response from http.client.HTTPConnection\u001B[39;00m\n\u001B[32m--> \u001B[39m\u001B[32m565\u001B[39m httplib_response = \u001B[38;5;28msuper\u001B[39m().getresponse()\n\u001B[32m    567\u001B[39m \u001B[38;5;28;01mtry\u001B[39;00m:\n\u001B[32m    568\u001B[39m     assert_header_parsing(httplib_response.msg)\n",
      "\u001B[36mFile \u001B[39m\u001B[32m~/anaconda3/envs/sftenv/lib/python3.12/http/client.py:1430\u001B[39m, in \u001B[36mHTTPConnection.getresponse\u001B[39m\u001B[34m(self)\u001B[39m\n\u001B[32m   1428\u001B[39m \u001B[38;5;28;01mtry\u001B[39;00m:\n\u001B[32m   1429\u001B[39m     \u001B[38;5;28;01mtry\u001B[39;00m:\n\u001B[32m-> \u001B[39m\u001B[32m1430\u001B[39m         response.begin()\n\u001B[32m   1431\u001B[39m     \u001B[38;5;28;01mexcept\u001B[39;00m \u001B[38;5;167;01mConnectionError\u001B[39;00m:\n\u001B[32m   1432\u001B[39m         \u001B[38;5;28mself\u001B[39m.close()\n",
      "\u001B[36mFile \u001B[39m\u001B[32m~/anaconda3/envs/sftenv/lib/python3.12/http/client.py:331\u001B[39m, in \u001B[36mHTTPResponse.begin\u001B[39m\u001B[34m(self)\u001B[39m\n\u001B[32m    329\u001B[39m \u001B[38;5;66;03m# read until we get a non-100 response\u001B[39;00m\n\u001B[32m    330\u001B[39m \u001B[38;5;28;01mwhile\u001B[39;00m \u001B[38;5;28;01mTrue\u001B[39;00m:\n\u001B[32m--> \u001B[39m\u001B[32m331\u001B[39m     version, status, reason = \u001B[38;5;28mself\u001B[39m._read_status()\n\u001B[32m    332\u001B[39m     \u001B[38;5;28;01mif\u001B[39;00m status != CONTINUE:\n\u001B[32m    333\u001B[39m         \u001B[38;5;28;01mbreak\u001B[39;00m\n",
      "\u001B[36mFile \u001B[39m\u001B[32m~/anaconda3/envs/sftenv/lib/python3.12/http/client.py:292\u001B[39m, in \u001B[36mHTTPResponse._read_status\u001B[39m\u001B[34m(self)\u001B[39m\n\u001B[32m    291\u001B[39m \u001B[38;5;28;01mdef\u001B[39;00m\u001B[38;5;250m \u001B[39m\u001B[34m_read_status\u001B[39m(\u001B[38;5;28mself\u001B[39m):\n\u001B[32m--> \u001B[39m\u001B[32m292\u001B[39m     line = \u001B[38;5;28mstr\u001B[39m(\u001B[38;5;28mself\u001B[39m.fp.readline(_MAXLINE + \u001B[32m1\u001B[39m), \u001B[33m\"\u001B[39m\u001B[33miso-8859-1\u001B[39m\u001B[33m\"\u001B[39m)\n\u001B[32m    293\u001B[39m     \u001B[38;5;28;01mif\u001B[39;00m \u001B[38;5;28mlen\u001B[39m(line) > _MAXLINE:\n\u001B[32m    294\u001B[39m         \u001B[38;5;28;01mraise\u001B[39;00m LineTooLong(\u001B[33m\"\u001B[39m\u001B[33mstatus line\u001B[39m\u001B[33m\"\u001B[39m)\n",
      "\u001B[36mFile \u001B[39m\u001B[32m~/anaconda3/envs/sftenv/lib/python3.12/socket.py:720\u001B[39m, in \u001B[36mSocketIO.readinto\u001B[39m\u001B[34m(self, b)\u001B[39m\n\u001B[32m    718\u001B[39m \u001B[38;5;28;01mwhile\u001B[39;00m \u001B[38;5;28;01mTrue\u001B[39;00m:\n\u001B[32m    719\u001B[39m     \u001B[38;5;28;01mtry\u001B[39;00m:\n\u001B[32m--> \u001B[39m\u001B[32m720\u001B[39m         \u001B[38;5;28;01mreturn\u001B[39;00m \u001B[38;5;28mself\u001B[39m._sock.recv_into(b)\n\u001B[32m    721\u001B[39m     \u001B[38;5;28;01mexcept\u001B[39;00m timeout:\n\u001B[32m    722\u001B[39m         \u001B[38;5;28mself\u001B[39m._timeout_occurred = \u001B[38;5;28;01mTrue\u001B[39;00m\n",
      "\u001B[36mFile \u001B[39m\u001B[32m~/anaconda3/envs/sftenv/lib/python3.12/ssl.py:1251\u001B[39m, in \u001B[36mSSLSocket.recv_into\u001B[39m\u001B[34m(self, buffer, nbytes, flags)\u001B[39m\n\u001B[32m   1247\u001B[39m     \u001B[38;5;28;01mif\u001B[39;00m flags != \u001B[32m0\u001B[39m:\n\u001B[32m   1248\u001B[39m         \u001B[38;5;28;01mraise\u001B[39;00m \u001B[38;5;167;01mValueError\u001B[39;00m(\n\u001B[32m   1249\u001B[39m           \u001B[33m\"\u001B[39m\u001B[33mnon-zero flags not allowed in calls to recv_into() on \u001B[39m\u001B[38;5;132;01m%s\u001B[39;00m\u001B[33m\"\u001B[39m %\n\u001B[32m   1250\u001B[39m           \u001B[38;5;28mself\u001B[39m.\u001B[34m__class__\u001B[39m)\n\u001B[32m-> \u001B[39m\u001B[32m1251\u001B[39m     \u001B[38;5;28;01mreturn\u001B[39;00m \u001B[38;5;28mself\u001B[39m.read(nbytes, buffer)\n\u001B[32m   1252\u001B[39m \u001B[38;5;28;01melse\u001B[39;00m:\n\u001B[32m   1253\u001B[39m     \u001B[38;5;28;01mreturn\u001B[39;00m \u001B[38;5;28msuper\u001B[39m().recv_into(buffer, nbytes, flags)\n",
      "\u001B[36mFile \u001B[39m\u001B[32m~/anaconda3/envs/sftenv/lib/python3.12/ssl.py:1103\u001B[39m, in \u001B[36mSSLSocket.read\u001B[39m\u001B[34m(self, len, buffer)\u001B[39m\n\u001B[32m   1101\u001B[39m \u001B[38;5;28;01mtry\u001B[39;00m:\n\u001B[32m   1102\u001B[39m     \u001B[38;5;28;01mif\u001B[39;00m buffer \u001B[38;5;129;01mis\u001B[39;00m \u001B[38;5;129;01mnot\u001B[39;00m \u001B[38;5;28;01mNone\u001B[39;00m:\n\u001B[32m-> \u001B[39m\u001B[32m1103\u001B[39m         \u001B[38;5;28;01mreturn\u001B[39;00m \u001B[38;5;28mself\u001B[39m._sslobj.read(\u001B[38;5;28mlen\u001B[39m, buffer)\n\u001B[32m   1104\u001B[39m     \u001B[38;5;28;01melse\u001B[39;00m:\n\u001B[32m   1105\u001B[39m         \u001B[38;5;28;01mreturn\u001B[39;00m \u001B[38;5;28mself\u001B[39m._sslobj.read(\u001B[38;5;28mlen\u001B[39m)\n",
      "\u001B[31mKeyboardInterrupt\u001B[39m: "
     ]
    }
   ],
   "execution_count": 29
  },
  {
   "metadata": {
    "ExecuteTime": {
     "end_time": "2025-07-03T08:55:32.746484Z",
     "start_time": "2025-07-03T08:55:32.693339Z"
    }
   },
   "cell_type": "code",
   "source": "df['name'].to_csv('ctth.txt', index=False, header=False)",
   "id": "a9661cc9a9f070df",
   "outputs": [],
   "execution_count": 9
  },
  {
   "metadata": {
    "ExecuteTime": {
     "end_time": "2025-07-04T02:25:47.679138Z",
     "start_time": "2025-07-04T02:25:47.644699Z"
    }
   },
   "cell_type": "code",
   "source": [
    "import requests\n",
    "\n",
    "# Kiểm tra xem requests đang dùng cái nào\n",
    "try:\n",
    "    import charset_normalizer\n",
    "    print(\"requests đang sử dụng charset_normalizer:\", charset_normalizer.__version__)\n",
    "except ImportError:\n",
    "    try:\n",
    "        import chardet\n",
    "        print(\"requests đang sử dụng chardet:\", chardet.__version__)\n",
    "    except ImportError:\n",
    "        print(\"Không tìm thấy cả chardet lẫn charset_normalizer.\")"
   ],
   "id": "735d40fa758e7151",
   "outputs": [
    {
     "name": "stdout",
     "output_type": "stream",
     "text": [
      "Không tìm thấy cả chardet lẫn charset_normalizer.\n"
     ]
    }
   ],
   "execution_count": 11
  },
  {
   "metadata": {
    "ExecuteTime": {
     "end_time": "2025-07-04T02:27:53.445268Z",
     "start_time": "2025-07-04T02:27:53.431841Z"
    }
   },
   "cell_type": "code",
   "source": "print(\"requests version:\", requests.__version__)",
   "id": "266427e22d2f9c5a",
   "outputs": [
    {
     "name": "stdout",
     "output_type": "stream",
     "text": [
      "requests version: 2.32.4\n"
     ]
    }
   ],
   "execution_count": 12
  },
  {
   "metadata": {
    "ExecuteTime": {
     "end_time": "2025-07-13T14:25:31.649979Z",
     "start_time": "2025-07-13T14:25:16.163101Z"
    }
   },
   "cell_type": "code",
   "source": [
    "from transformers import AutoTokenizer, AutoModelForCausalLM\n",
    "import torch\n",
    "\n",
    "model_id = \"Qwen/Qwen2.5-3B-Instruct\"\n",
    "\n",
    "tokenizer = AutoTokenizer.from_pretrained(model_id, trust_remote_code=True)\n",
    "model = AutoModelForCausalLM.from_pretrained(\n",
    "    model_id,\n",
    "    device_map=\"auto\",\n",
    "    trust_remote_code=True,\n",
    "    torch_dtype=torch.float16\n",
    ")"
   ],
   "id": "bf984e9b2e383eae",
   "outputs": [
    {
     "data": {
      "text/plain": [
       "Loading checkpoint shards:   0%|          | 0/2 [00:00<?, ?it/s]"
      ],
      "application/vnd.jupyter.widget-view+json": {
       "version_major": 2,
       "version_minor": 0,
       "model_id": "89bd2fb7bda141209ec0b3b03a0fb41a"
      }
     },
     "metadata": {},
     "output_type": "display_data"
    },
    {
     "name": "stderr",
     "output_type": "stream",
     "text": [
      "Some parameters are on the meta device because they were offloaded to the disk.\n"
     ]
    }
   ],
   "execution_count": 1
  },
  {
   "metadata": {
    "ExecuteTime": {
     "end_time": "2025-07-13T14:25:45.473013Z",
     "start_time": "2025-07-13T14:25:45.466945Z"
    }
   },
   "cell_type": "code",
   "source": [
    "def run_qwen_chat(prompt: dict) -> str:\n",
    "    messages = prompt.get(\"messages\", [])\n",
    "    temperature = prompt.get(\"temperature\", 0.0)\n",
    "    max_tokens = prompt.get(\"max_tokens\", 256)\n",
    "    top_k = prompt.get('top_k', 50)\n",
    "    top_p = prompt.get('top_p', 0.9)\n",
    "    repetition_penalty = prompt.get('repetition_penalty', 1.0)\n",
    "\n",
    "    # Create prompt from chat messages\n",
    "    chat_prompt = tokenizer.apply_chat_template(messages, tokenize=False, add_generation_prompt=True)\n",
    "\n",
    "    # Tokenize and generate\n",
    "    inputs = tokenizer(chat_prompt, return_tensors=\"pt\").to(model.device)\n",
    "    outputs = model.generate(\n",
    "        **inputs,\n",
    "        max_new_tokens=max_tokens,\n",
    "        temperature=temperature,\n",
    "        do_sample=temperature > 0\n",
    "    )\n",
    "\n",
    "    # Decode and extract generated response\n",
    "    response = tokenizer.decode(outputs[0], skip_special_tokens=True)\n",
    "    return response.split(chat_prompt)[-1].strip()"
   ],
   "id": "69991162cb91f872",
   "outputs": [],
   "execution_count": 2
  },
  {
   "metadata": {
    "ExecuteTime": {
     "end_time": "2025-07-13T14:26:50.790477Z",
     "start_time": "2025-07-13T14:26:05.685150Z"
    }
   },
   "cell_type": "code",
   "source": "result = run_qwen_chat(prompt)",
   "id": "1e74adf25fab20ba",
   "outputs": [
    {
     "name": "stderr",
     "output_type": "stream",
     "text": [
      "The following generation flags are not valid and may be ignored: ['temperature', 'top_p', 'top_k']. Set `TRANSFORMERS_VERBOSITY=info` for more details.\n"
     ]
    }
   ],
   "execution_count": 5
  },
  {
   "metadata": {
    "ExecuteTime": {
     "end_time": "2025-07-13T14:26:02.451041Z",
     "start_time": "2025-07-13T14:26:02.444561Z"
    }
   },
   "cell_type": "code",
   "source": [
    "prompt = {\n",
    "    'top_k': 0.0,\n",
    "    'top_p': 0.0,\n",
    "    'repetition_penalty': 0.0,\n",
    "    'max_tokens': 1024,\n",
    "    'temperature': 0.0,\n",
    "    'stream': False,\n",
    "    'model': 'Qwen2.5-3B-Instruct',\n",
    "    'messages': [\n",
    "        {\n",
    "            'role': 'system',\n",
    "            'content': 'Bạn là hệ thống phân loại yêu cầu người dùng trong ứng dụng xem nội dung.\\n\\nNhiệm vụ:\\n- Dựa trên câu lệnh người dùng, chọn **DUY NHẤT MỘT nhóm hành động** phù hợp nhất.\\n- Trả về đúng định dạng JSON: {\"group\": \"Tên nhóm\"}\\n- KHÔNG trả thêm nội dung nào khác.\\n\\nDanh sách nhóm:\\n\\n- \"media_control\": Điều khiển phát lại, âm lượng, tua, tạm dừng, tiếp tục, bật/tắt thiết bị.\\n- \"content_open\": Mở hoặc hỏi về nội dung: phim, chương trình, video, lịch chiếu.\\n- \"query_info\": Câu hỏi thông tin, phản ánh, tìm kiếm, hỏi về phim, gói cước, thời tiết, vàng.\\n- \"app_ui\": Điều hướng giao diện ứng dụng, mở YouTube, quay lại trang trước, tắt màn hình.\\n\\nVí dụ:\\n- \"Tăng âm lượng lên\" → {\"group\": \"media_control\"}\\n- \"Xem phim Avatar\" → {\"group\": \"content_open\"}\\n- \"Không thấy phim yêu thích\" → {\"group\": \"query_info\"}\\n- \"Về trang chủ giúp tôi\" → {\"group\": \"app_ui\"}'\n",
    "        },\n",
    "        {\n",
    "            'role': 'user',\n",
    "            'content': 'tôi muốn xem phim hoạt hình'\n",
    "\n",
    "        }\n",
    "    ]\n",
    "}"
   ],
   "id": "2fc504118b33cacc",
   "outputs": [],
   "execution_count": 4
  },
  {
   "metadata": {},
   "cell_type": "code",
   "outputs": [],
   "execution_count": null,
   "source": "",
   "id": "3358e573b4c48741"
  }
 ],
 "metadata": {
  "kernelspec": {
   "display_name": "Python 3",
   "language": "python",
   "name": "python3"
  },
  "language_info": {
   "codemirror_mode": {
    "name": "ipython",
    "version": 2
   },
   "file_extension": ".py",
   "mimetype": "text/x-python",
   "name": "python",
   "nbconvert_exporter": "python",
   "pygments_lexer": "ipython2",
   "version": "2.7.6"
  }
 },
 "nbformat": 4,
 "nbformat_minor": 5
}
