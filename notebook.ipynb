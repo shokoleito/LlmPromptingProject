{
 "cells": [
  {
   "metadata": {},
   "cell_type": "markdown",
   "source": "# Create an auto testing script for Qwen2.5-14B-Instruct",
   "id": "8a77807f92f26ee"
  },
  {
   "metadata": {
    "ExecuteTime": {
     "end_time": "2025-07-07T06:48:11.008515Z",
     "start_time": "2025-07-07T06:48:10.237827Z"
    }
   },
   "cell_type": "code",
   "source": [
    "import requests\n",
    "import copy\n",
    "import json\n",
    "import time\n",
    "import csv\n",
    "import pandas as pd"
   ],
   "id": "fbc121e30a2defb3",
   "outputs": [],
   "execution_count": 2
  },
  {
   "metadata": {
    "ExecuteTime": {
     "end_time": "2025-07-07T06:48:21.385202Z",
     "start_time": "2025-07-07T06:48:21.103867Z"
    }
   },
   "cell_type": "code",
   "source": "test_new_intent = pd.read_excel('Câu hỏi người dùng.xlsx')",
   "id": "c0c187602854fd30",
   "outputs": [
    {
     "ename": "ImportError",
     "evalue": "Missing optional dependency 'openpyxl'.  Use pip or conda to install openpyxl.",
     "output_type": "error",
     "traceback": [
      "\u001B[31m---------------------------------------------------------------------------\u001B[39m",
      "\u001B[31mModuleNotFoundError\u001B[39m                       Traceback (most recent call last)",
      "\u001B[36mFile \u001B[39m\u001B[32m~/anaconda3/envs/sftenv/lib/python3.12/site-packages/pandas/compat/_optional.py:135\u001B[39m, in \u001B[36mimport_optional_dependency\u001B[39m\u001B[34m(name, extra, errors, min_version)\u001B[39m\n\u001B[32m    134\u001B[39m \u001B[38;5;28;01mtry\u001B[39;00m:\n\u001B[32m--> \u001B[39m\u001B[32m135\u001B[39m     module = importlib.import_module(name)\n\u001B[32m    136\u001B[39m \u001B[38;5;28;01mexcept\u001B[39;00m \u001B[38;5;167;01mImportError\u001B[39;00m:\n",
      "\u001B[36mFile \u001B[39m\u001B[32m~/anaconda3/envs/sftenv/lib/python3.12/importlib/__init__.py:90\u001B[39m, in \u001B[36mimport_module\u001B[39m\u001B[34m(name, package)\u001B[39m\n\u001B[32m     89\u001B[39m         level += \u001B[32m1\u001B[39m\n\u001B[32m---> \u001B[39m\u001B[32m90\u001B[39m \u001B[38;5;28;01mreturn\u001B[39;00m _bootstrap._gcd_import(name[level:], package, level)\n",
      "\u001B[36mFile \u001B[39m\u001B[32m<frozen importlib._bootstrap>:1387\u001B[39m, in \u001B[36m_gcd_import\u001B[39m\u001B[34m(name, package, level)\u001B[39m\n",
      "\u001B[36mFile \u001B[39m\u001B[32m<frozen importlib._bootstrap>:1360\u001B[39m, in \u001B[36m_find_and_load\u001B[39m\u001B[34m(name, import_)\u001B[39m\n",
      "\u001B[36mFile \u001B[39m\u001B[32m<frozen importlib._bootstrap>:1324\u001B[39m, in \u001B[36m_find_and_load_unlocked\u001B[39m\u001B[34m(name, import_)\u001B[39m\n",
      "\u001B[31mModuleNotFoundError\u001B[39m: No module named 'openpyxl'",
      "\nDuring handling of the above exception, another exception occurred:\n",
      "\u001B[31mImportError\u001B[39m                               Traceback (most recent call last)",
      "\u001B[36mCell\u001B[39m\u001B[36m \u001B[39m\u001B[32mIn[4]\u001B[39m\u001B[32m, line 1\u001B[39m\n\u001B[32m----> \u001B[39m\u001B[32m1\u001B[39m test_new_intent = pd.read_excel(\u001B[33m'\u001B[39m\u001B[33mCâu hỏi người dùng.xlsx\u001B[39m\u001B[33m'\u001B[39m)\n",
      "\u001B[36mFile \u001B[39m\u001B[32m~/anaconda3/envs/sftenv/lib/python3.12/site-packages/pandas/io/excel/_base.py:495\u001B[39m, in \u001B[36mread_excel\u001B[39m\u001B[34m(io, sheet_name, header, names, index_col, usecols, dtype, engine, converters, true_values, false_values, skiprows, nrows, na_values, keep_default_na, na_filter, verbose, parse_dates, date_parser, date_format, thousands, decimal, comment, skipfooter, storage_options, dtype_backend, engine_kwargs)\u001B[39m\n\u001B[32m    493\u001B[39m \u001B[38;5;28;01mif\u001B[39;00m \u001B[38;5;129;01mnot\u001B[39;00m \u001B[38;5;28misinstance\u001B[39m(io, ExcelFile):\n\u001B[32m    494\u001B[39m     should_close = \u001B[38;5;28;01mTrue\u001B[39;00m\n\u001B[32m--> \u001B[39m\u001B[32m495\u001B[39m     io = ExcelFile(\n\u001B[32m    496\u001B[39m         io,\n\u001B[32m    497\u001B[39m         storage_options=storage_options,\n\u001B[32m    498\u001B[39m         engine=engine,\n\u001B[32m    499\u001B[39m         engine_kwargs=engine_kwargs,\n\u001B[32m    500\u001B[39m     )\n\u001B[32m    501\u001B[39m \u001B[38;5;28;01melif\u001B[39;00m engine \u001B[38;5;129;01mand\u001B[39;00m engine != io.engine:\n\u001B[32m    502\u001B[39m     \u001B[38;5;28;01mraise\u001B[39;00m \u001B[38;5;167;01mValueError\u001B[39;00m(\n\u001B[32m    503\u001B[39m         \u001B[33m\"\u001B[39m\u001B[33mEngine should not be specified when passing \u001B[39m\u001B[33m\"\u001B[39m\n\u001B[32m    504\u001B[39m         \u001B[33m\"\u001B[39m\u001B[33man ExcelFile - ExcelFile already has the engine set\u001B[39m\u001B[33m\"\u001B[39m\n\u001B[32m    505\u001B[39m     )\n",
      "\u001B[36mFile \u001B[39m\u001B[32m~/anaconda3/envs/sftenv/lib/python3.12/site-packages/pandas/io/excel/_base.py:1567\u001B[39m, in \u001B[36mExcelFile.__init__\u001B[39m\u001B[34m(self, path_or_buffer, engine, storage_options, engine_kwargs)\u001B[39m\n\u001B[32m   1564\u001B[39m \u001B[38;5;28mself\u001B[39m.engine = engine\n\u001B[32m   1565\u001B[39m \u001B[38;5;28mself\u001B[39m.storage_options = storage_options\n\u001B[32m-> \u001B[39m\u001B[32m1567\u001B[39m \u001B[38;5;28mself\u001B[39m._reader = \u001B[38;5;28mself\u001B[39m._engines[engine](\n\u001B[32m   1568\u001B[39m     \u001B[38;5;28mself\u001B[39m._io,\n\u001B[32m   1569\u001B[39m     storage_options=storage_options,\n\u001B[32m   1570\u001B[39m     engine_kwargs=engine_kwargs,\n\u001B[32m   1571\u001B[39m )\n",
      "\u001B[36mFile \u001B[39m\u001B[32m~/anaconda3/envs/sftenv/lib/python3.12/site-packages/pandas/io/excel/_openpyxl.py:552\u001B[39m, in \u001B[36mOpenpyxlReader.__init__\u001B[39m\u001B[34m(self, filepath_or_buffer, storage_options, engine_kwargs)\u001B[39m\n\u001B[32m    534\u001B[39m \u001B[38;5;129m@doc\u001B[39m(storage_options=_shared_docs[\u001B[33m\"\u001B[39m\u001B[33mstorage_options\u001B[39m\u001B[33m\"\u001B[39m])\n\u001B[32m    535\u001B[39m \u001B[38;5;28;01mdef\u001B[39;00m\u001B[38;5;250m \u001B[39m\u001B[34m__init__\u001B[39m(\n\u001B[32m    536\u001B[39m     \u001B[38;5;28mself\u001B[39m,\n\u001B[32m   (...)\u001B[39m\u001B[32m    539\u001B[39m     engine_kwargs: \u001B[38;5;28mdict\u001B[39m | \u001B[38;5;28;01mNone\u001B[39;00m = \u001B[38;5;28;01mNone\u001B[39;00m,\n\u001B[32m    540\u001B[39m ) -> \u001B[38;5;28;01mNone\u001B[39;00m:\n\u001B[32m    541\u001B[39m \u001B[38;5;250m    \u001B[39m\u001B[33;03m\"\"\"\u001B[39;00m\n\u001B[32m    542\u001B[39m \u001B[33;03m    Reader using openpyxl engine.\u001B[39;00m\n\u001B[32m    543\u001B[39m \n\u001B[32m   (...)\u001B[39m\u001B[32m    550\u001B[39m \u001B[33;03m        Arbitrary keyword arguments passed to excel engine.\u001B[39;00m\n\u001B[32m    551\u001B[39m \u001B[33;03m    \"\"\"\u001B[39;00m\n\u001B[32m--> \u001B[39m\u001B[32m552\u001B[39m     import_optional_dependency(\u001B[33m\"\u001B[39m\u001B[33mopenpyxl\u001B[39m\u001B[33m\"\u001B[39m)\n\u001B[32m    553\u001B[39m     \u001B[38;5;28msuper\u001B[39m().\u001B[34m__init__\u001B[39m(\n\u001B[32m    554\u001B[39m         filepath_or_buffer,\n\u001B[32m    555\u001B[39m         storage_options=storage_options,\n\u001B[32m    556\u001B[39m         engine_kwargs=engine_kwargs,\n\u001B[32m    557\u001B[39m     )\n",
      "\u001B[36mFile \u001B[39m\u001B[32m~/anaconda3/envs/sftenv/lib/python3.12/site-packages/pandas/compat/_optional.py:138\u001B[39m, in \u001B[36mimport_optional_dependency\u001B[39m\u001B[34m(name, extra, errors, min_version)\u001B[39m\n\u001B[32m    136\u001B[39m \u001B[38;5;28;01mexcept\u001B[39;00m \u001B[38;5;167;01mImportError\u001B[39;00m:\n\u001B[32m    137\u001B[39m     \u001B[38;5;28;01mif\u001B[39;00m errors == \u001B[33m\"\u001B[39m\u001B[33mraise\u001B[39m\u001B[33m\"\u001B[39m:\n\u001B[32m--> \u001B[39m\u001B[32m138\u001B[39m         \u001B[38;5;28;01mraise\u001B[39;00m \u001B[38;5;167;01mImportError\u001B[39;00m(msg)\n\u001B[32m    139\u001B[39m     \u001B[38;5;28;01mreturn\u001B[39;00m \u001B[38;5;28;01mNone\u001B[39;00m\n\u001B[32m    141\u001B[39m \u001B[38;5;66;03m# Handle submodules: if we have submodule, grab parent module from sys.modules\u001B[39;00m\n",
      "\u001B[31mImportError\u001B[39m: Missing optional dependency 'openpyxl'.  Use pip or conda to install openpyxl."
     ]
    }
   ],
   "execution_count": 4
  },
  {
   "metadata": {
    "ExecuteTime": {
     "end_time": "2025-06-27T12:06:22.067858Z",
     "start_time": "2025-06-27T12:06:22.062455Z"
    }
   },
   "cell_type": "code",
   "source": [
    "url = 'https://aihub.vietteltelecom.vn:8443/api/box-ai/assistant'\n",
    "url_local = 'http://10.61.100.167:8080/api/box-ai/assistant'\n",
    "headers = {\n",
    "    'Content-Type': 'application/json',\n",
    "    'x-api-key': 'CjuiGkZSLSyxWspiQaRfiA',\n",
    "    'Cookie': 'JSESSIONID=1482DC461E653ED54CE029D985F5B8B2'\n",
    "}"
   ],
   "id": "705b809bf7d72af1",
   "outputs": [],
   "execution_count": 50
  },
  {
   "metadata": {
    "ExecuteTime": {
     "end_time": "2025-06-27T12:06:22.677020Z",
     "start_time": "2025-06-27T12:06:22.671791Z"
    }
   },
   "cell_type": "code",
   "source": "url_llm = 'https://aihub.vietteltelecom.vn:8443/api/llm/test-prompt'",
   "id": "468f453be56ee836",
   "outputs": [],
   "execution_count": 51
  },
  {
   "metadata": {
    "ExecuteTime": {
     "end_time": "2025-06-30T09:10:22.359572Z",
     "start_time": "2025-06-30T09:10:22.356247Z"
    }
   },
   "cell_type": "code",
   "source": [
    "prompt = {\n",
    "    'max_tokens': 100,\n",
    "    'temperature': 0.0,\n",
    "    'stream': False,\n",
    "    'model': 'Qwen2.5-14B-Instruct',\n",
    "    'messages': [\n",
    "        {\n",
    "            'role': 'system',\n",
    "            'content': ''\n",
    "        },\n",
    "        {\n",
    "            'role': 'user',\n",
    "            'content': 'mở đào hoa ánh giang sơn'\n",
    "        }\n",
    "    ]\n",
    "}"
   ],
   "id": "f3a0966278158192",
   "outputs": [],
   "execution_count": 117
  },
  {
   "metadata": {
    "ExecuteTime": {
     "end_time": "2025-06-30T09:10:22.713692Z",
     "start_time": "2025-06-30T09:10:22.709999Z"
    }
   },
   "cell_type": "code",
   "source": [
    "query = {\n",
    "    'content':'mở vtv cáp 13',\n",
    "    'profile_id': '123124'\n",
    "}"
   ],
   "id": "d832b653272e4e31",
   "outputs": [],
   "execution_count": 118
  },
  {
   "metadata": {
    "ExecuteTime": {
     "end_time": "2025-06-30T09:10:23.023491Z",
     "start_time": "2025-06-30T09:10:23.018106Z"
    }
   },
   "cell_type": "code",
   "source": [
    "ROUTING_PROMPT = open('ROUTING_PROMPT_AIBOX.txt', 'r', encoding='utf-8').read()\n",
    "COMMON_EXTRACT_PROMPT = open('COMMON_EXTRACT_PROMPT.txt', 'r', encoding='utf-8').read()\n",
    "CHANNEL_EXTRACT_PROMPT = open('CHANNEL_EXTRACT_PROMPT.txt', 'r', encoding='utf-8').read()"
   ],
   "id": "a8be6459a68e25db",
   "outputs": [],
   "execution_count": 119
  },
  {
   "metadata": {
    "ExecuteTime": {
     "end_time": "2025-06-30T09:10:23.436441Z",
     "start_time": "2025-06-30T09:10:23.434007Z"
    }
   },
   "cell_type": "code",
   "source": [
    "# ROUTING_PROMPT\n",
    "# CHANNEL_EXTRACT_PROMPT\n",
    "new_intent_test = pd.read_excel()"
   ],
   "id": "851ebc1a918630fe",
   "outputs": [],
   "execution_count": 120
  },
  {
   "metadata": {
    "ExecuteTime": {
     "end_time": "2025-06-30T09:10:24.085147Z",
     "start_time": "2025-06-30T09:10:24.080363Z"
    }
   },
   "cell_type": "code",
   "source": [
    "def send_request(url_route, header, data, prompt_type):\n",
    "    temp_data = copy.deepcopy(data)\n",
    "    temp_data['messages'][0]['content'] = prompt_type\n",
    "    # print(temp_data)\n",
    "    try:\n",
    "        start = time.time()\n",
    "        response = requests.post(url=url_route, headers=header, json=temp_data)\n",
    "        end = time.time()\n",
    "        response.raise_for_status()\n",
    "        print(f'Status Code: {response.status_code}')\n",
    "        if response.status_code == 200:\n",
    "            res = response.json()\n",
    "            print(f'Response JSON: {res}')\n",
    "            print(end-start)\n",
    "        else:\n",
    "            print(f'Response Text: {response.text}')\n",
    "    except requests.exceptions.RequestException as e:\n",
    "        print(f'An error occurred: {e}')"
   ],
   "id": "7a7fabb6b561bd47",
   "outputs": [],
   "execution_count": 121
  },
  {
   "metadata": {
    "ExecuteTime": {
     "end_time": "2025-06-30T09:10:25.529849Z",
     "start_time": "2025-06-30T09:10:24.481025Z"
    }
   },
   "cell_type": "code",
   "source": "send_request(url_llm, headers, prompt, ROUTING_PROMPT)",
   "id": "928c7c465956d4d2",
   "outputs": [
    {
     "name": "stdout",
     "output_type": "stream",
     "text": [
      "Status Code: 200\n",
      "Response JSON: {'intent': 'open_item'}\n",
      "1.0442399978637695\n"
     ]
    }
   ],
   "execution_count": 122
  },
  {
   "metadata": {
    "ExecuteTime": {
     "end_time": "2025-06-30T09:10:26.535014Z",
     "start_time": "2025-06-30T09:10:25.619091Z"
    }
   },
   "cell_type": "code",
   "source": "send_request(url_llm, headers, prompt, CHANNEL_EXTRACT_PROMPT)",
   "id": "56a9e295fbc1780",
   "outputs": [
    {
     "name": "stdout",
     "output_type": "stream",
     "text": [
      "Status Code: 200\n",
      "Response JSON: {'item_name': 'đào hoa ánh giang sơn', 'channel': None, 'hour': None, 'day': None}\n",
      "0.9103598594665527\n"
     ]
    }
   ],
   "execution_count": 123
  },
  {
   "metadata": {
    "ExecuteTime": {
     "end_time": "2025-07-03T07:57:04.354194Z",
     "start_time": "2025-07-03T07:57:04.292757Z"
    }
   },
   "cell_type": "code",
   "source": [
    "import pandas as pd\n",
    "test_cases = pd.read_csv('full_intent_20each.csv', encoding='utf-8')\n",
    "test_cases[:5]"
   ],
   "id": "e05f434a6a294cae",
   "outputs": [
    {
     "data": {
      "text/plain": [
       "                    user_input expected_intent\n",
       "0    Thời sự quốc tế mở lên đi    open_program\n",
       "1  Chương trình buổi sáng đâu?    open_program\n",
       "2      Tin tức sáng nay bật đi    open_program\n",
       "3      Mở chương trình thời sự    open_program\n",
       "4    Chiếu bản tin VTV tối nay    open_program"
      ],
      "text/html": [
       "<div>\n",
       "<style scoped>\n",
       "    .dataframe tbody tr th:only-of-type {\n",
       "        vertical-align: middle;\n",
       "    }\n",
       "\n",
       "    .dataframe tbody tr th {\n",
       "        vertical-align: top;\n",
       "    }\n",
       "\n",
       "    .dataframe thead th {\n",
       "        text-align: right;\n",
       "    }\n",
       "</style>\n",
       "<table border=\"1\" class=\"dataframe\">\n",
       "  <thead>\n",
       "    <tr style=\"text-align: right;\">\n",
       "      <th></th>\n",
       "      <th>user_input</th>\n",
       "      <th>expected_intent</th>\n",
       "    </tr>\n",
       "  </thead>\n",
       "  <tbody>\n",
       "    <tr>\n",
       "      <th>0</th>\n",
       "      <td>Thời sự quốc tế mở lên đi</td>\n",
       "      <td>open_program</td>\n",
       "    </tr>\n",
       "    <tr>\n",
       "      <th>1</th>\n",
       "      <td>Chương trình buổi sáng đâu?</td>\n",
       "      <td>open_program</td>\n",
       "    </tr>\n",
       "    <tr>\n",
       "      <th>2</th>\n",
       "      <td>Tin tức sáng nay bật đi</td>\n",
       "      <td>open_program</td>\n",
       "    </tr>\n",
       "    <tr>\n",
       "      <th>3</th>\n",
       "      <td>Mở chương trình thời sự</td>\n",
       "      <td>open_program</td>\n",
       "    </tr>\n",
       "    <tr>\n",
       "      <th>4</th>\n",
       "      <td>Chiếu bản tin VTV tối nay</td>\n",
       "      <td>open_program</td>\n",
       "    </tr>\n",
       "  </tbody>\n",
       "</table>\n",
       "</div>"
      ]
     },
     "execution_count": 3,
     "metadata": {},
     "output_type": "execute_result"
    }
   ],
   "execution_count": 3
  },
  {
   "metadata": {
    "ExecuteTime": {
     "end_time": "2025-07-03T08:55:08.735847Z",
     "start_time": "2025-07-03T08:55:08.611957Z"
    }
   },
   "cell_type": "code",
   "source": [
    "df = pd.read_csv('./data/ctth.csv', encoding='utf-8')\n",
    "df[:5]"
   ],
   "id": "220ad8f55ed1504f",
   "outputs": [
    {
     "data": {
      "text/plain": [
       "   is_replay  day_replay           id           updated_at  is_active  \\\n",
       "0          7         7.0  13439757982  2025-05-26 15:00:11          1   \n",
       "1          7         7.0  13439757976  2025-05-26 15:00:11          1   \n",
       "2          7         7.0  13439757970  2025-05-26 15:00:11          1   \n",
       "3          7         7.0  13439757979  2025-05-26 15:00:11          1   \n",
       "4          7         7.0  13439757964  2025-05-26 15:00:11          1   \n",
       "\n",
       "                 channel_name      begin_time category_names  \\\n",
       "0  VTVcab 1 - Vie Giải Trí HD  20250526230000    Phim truyện   \n",
       "1  VTVcab 1 - Vie Giải Trí HD  20250526210000    Phim truyện   \n",
       "2  VTVcab 1 - Vie Giải Trí HD  20250526190000    Phim truyện   \n",
       "3  VTVcab 1 - Vie Giải Trí HD  20250526220000    Phim truyện   \n",
       "4  VTVcab 1 - Vie Giải Trí HD  20250526170000    Phim truyện   \n",
       "\n",
       "                       @timestamp category_ids  channel_id  \\\n",
       "0  2025-05-26T08:15:00.528208121Z            5         180   \n",
       "1  2025-05-26T08:15:00.526102319Z            5         180   \n",
       "2  2025-05-26T08:15:00.524240440Z            5         180   \n",
       "3  2025-05-26T08:15:00.523784679Z            5         180   \n",
       "4  2025-05-26T08:15:00.523763445Z            5         180   \n",
       "\n",
       "                                            name        end_time  \n",
       "0  Siêu Trí Tuệ Việt Nam - Mùa 2 Tập 11 - Phần 2  20250526235959  \n",
       "1                              Hoa Vương - Tập 3  20250526220000  \n",
       "2                      Dưới Ánh Mặt Trời - Tập 1  20250526200000  \n",
       "3                        Cây Táo Nở Hoa - Tập 48  20250526230000  \n",
       "4                        Quý Ông Góa Vợ - Tập 45  20250526180000  "
      ],
      "text/html": [
       "<div>\n",
       "<style scoped>\n",
       "    .dataframe tbody tr th:only-of-type {\n",
       "        vertical-align: middle;\n",
       "    }\n",
       "\n",
       "    .dataframe tbody tr th {\n",
       "        vertical-align: top;\n",
       "    }\n",
       "\n",
       "    .dataframe thead th {\n",
       "        text-align: right;\n",
       "    }\n",
       "</style>\n",
       "<table border=\"1\" class=\"dataframe\">\n",
       "  <thead>\n",
       "    <tr style=\"text-align: right;\">\n",
       "      <th></th>\n",
       "      <th>is_replay</th>\n",
       "      <th>day_replay</th>\n",
       "      <th>id</th>\n",
       "      <th>updated_at</th>\n",
       "      <th>is_active</th>\n",
       "      <th>channel_name</th>\n",
       "      <th>begin_time</th>\n",
       "      <th>category_names</th>\n",
       "      <th>@timestamp</th>\n",
       "      <th>category_ids</th>\n",
       "      <th>channel_id</th>\n",
       "      <th>name</th>\n",
       "      <th>end_time</th>\n",
       "    </tr>\n",
       "  </thead>\n",
       "  <tbody>\n",
       "    <tr>\n",
       "      <th>0</th>\n",
       "      <td>7</td>\n",
       "      <td>7.0</td>\n",
       "      <td>13439757982</td>\n",
       "      <td>2025-05-26 15:00:11</td>\n",
       "      <td>1</td>\n",
       "      <td>VTVcab 1 - Vie Giải Trí HD</td>\n",
       "      <td>20250526230000</td>\n",
       "      <td>Phim truyện</td>\n",
       "      <td>2025-05-26T08:15:00.528208121Z</td>\n",
       "      <td>5</td>\n",
       "      <td>180</td>\n",
       "      <td>Siêu Trí Tuệ Việt Nam - Mùa 2 Tập 11 - Phần 2</td>\n",
       "      <td>20250526235959</td>\n",
       "    </tr>\n",
       "    <tr>\n",
       "      <th>1</th>\n",
       "      <td>7</td>\n",
       "      <td>7.0</td>\n",
       "      <td>13439757976</td>\n",
       "      <td>2025-05-26 15:00:11</td>\n",
       "      <td>1</td>\n",
       "      <td>VTVcab 1 - Vie Giải Trí HD</td>\n",
       "      <td>20250526210000</td>\n",
       "      <td>Phim truyện</td>\n",
       "      <td>2025-05-26T08:15:00.526102319Z</td>\n",
       "      <td>5</td>\n",
       "      <td>180</td>\n",
       "      <td>Hoa Vương - Tập 3</td>\n",
       "      <td>20250526220000</td>\n",
       "    </tr>\n",
       "    <tr>\n",
       "      <th>2</th>\n",
       "      <td>7</td>\n",
       "      <td>7.0</td>\n",
       "      <td>13439757970</td>\n",
       "      <td>2025-05-26 15:00:11</td>\n",
       "      <td>1</td>\n",
       "      <td>VTVcab 1 - Vie Giải Trí HD</td>\n",
       "      <td>20250526190000</td>\n",
       "      <td>Phim truyện</td>\n",
       "      <td>2025-05-26T08:15:00.524240440Z</td>\n",
       "      <td>5</td>\n",
       "      <td>180</td>\n",
       "      <td>Dưới Ánh Mặt Trời - Tập 1</td>\n",
       "      <td>20250526200000</td>\n",
       "    </tr>\n",
       "    <tr>\n",
       "      <th>3</th>\n",
       "      <td>7</td>\n",
       "      <td>7.0</td>\n",
       "      <td>13439757979</td>\n",
       "      <td>2025-05-26 15:00:11</td>\n",
       "      <td>1</td>\n",
       "      <td>VTVcab 1 - Vie Giải Trí HD</td>\n",
       "      <td>20250526220000</td>\n",
       "      <td>Phim truyện</td>\n",
       "      <td>2025-05-26T08:15:00.523784679Z</td>\n",
       "      <td>5</td>\n",
       "      <td>180</td>\n",
       "      <td>Cây Táo Nở Hoa - Tập 48</td>\n",
       "      <td>20250526230000</td>\n",
       "    </tr>\n",
       "    <tr>\n",
       "      <th>4</th>\n",
       "      <td>7</td>\n",
       "      <td>7.0</td>\n",
       "      <td>13439757964</td>\n",
       "      <td>2025-05-26 15:00:11</td>\n",
       "      <td>1</td>\n",
       "      <td>VTVcab 1 - Vie Giải Trí HD</td>\n",
       "      <td>20250526170000</td>\n",
       "      <td>Phim truyện</td>\n",
       "      <td>2025-05-26T08:15:00.523763445Z</td>\n",
       "      <td>5</td>\n",
       "      <td>180</td>\n",
       "      <td>Quý Ông Góa Vợ - Tập 45</td>\n",
       "      <td>20250526180000</td>\n",
       "    </tr>\n",
       "  </tbody>\n",
       "</table>\n",
       "</div>"
      ]
     },
     "execution_count": 8,
     "metadata": {},
     "output_type": "execute_result"
    }
   ],
   "execution_count": 8
  },
  {
   "metadata": {
    "ExecuteTime": {
     "end_time": "2025-07-03T08:55:32.746484Z",
     "start_time": "2025-07-03T08:55:32.693339Z"
    }
   },
   "cell_type": "code",
   "source": "df['name'].to_csv('ctth.txt', index=False, header=False)",
   "id": "a9661cc9a9f070df",
   "outputs": [],
   "execution_count": 9
  },
  {
   "metadata": {
    "ExecuteTime": {
     "end_time": "2025-07-04T02:25:47.679138Z",
     "start_time": "2025-07-04T02:25:47.644699Z"
    }
   },
   "cell_type": "code",
   "source": [
    "import requests\n",
    "\n",
    "# Kiểm tra xem requests đang dùng cái nào\n",
    "try:\n",
    "    import charset_normalizer\n",
    "    print(\"requests đang sử dụng charset_normalizer:\", charset_normalizer.__version__)\n",
    "except ImportError:\n",
    "    try:\n",
    "        import chardet\n",
    "        print(\"requests đang sử dụng chardet:\", chardet.__version__)\n",
    "    except ImportError:\n",
    "        print(\"Không tìm thấy cả chardet lẫn charset_normalizer.\")"
   ],
   "id": "735d40fa758e7151",
   "outputs": [
    {
     "name": "stdout",
     "output_type": "stream",
     "text": [
      "Không tìm thấy cả chardet lẫn charset_normalizer.\n"
     ]
    }
   ],
   "execution_count": 11
  },
  {
   "metadata": {
    "ExecuteTime": {
     "end_time": "2025-07-04T02:27:53.445268Z",
     "start_time": "2025-07-04T02:27:53.431841Z"
    }
   },
   "cell_type": "code",
   "source": "print(\"requests version:\", requests.__version__)",
   "id": "266427e22d2f9c5a",
   "outputs": [
    {
     "name": "stdout",
     "output_type": "stream",
     "text": [
      "requests version: 2.32.4\n"
     ]
    }
   ],
   "execution_count": 12
  },
  {
   "metadata": {},
   "cell_type": "code",
   "outputs": [],
   "execution_count": null,
   "source": "",
   "id": "bf984e9b2e383eae"
  }
 ],
 "metadata": {
  "kernelspec": {
   "display_name": "Python 3",
   "language": "python",
   "name": "python3"
  },
  "language_info": {
   "codemirror_mode": {
    "name": "ipython",
    "version": 2
   },
   "file_extension": ".py",
   "mimetype": "text/x-python",
   "name": "python",
   "nbconvert_exporter": "python",
   "pygments_lexer": "ipython2",
   "version": "2.7.6"
  }
 },
 "nbformat": 4,
 "nbformat_minor": 5
}
